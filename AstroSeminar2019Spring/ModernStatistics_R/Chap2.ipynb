{
 "cells": [
  {
   "cell_type": "markdown",
   "metadata": {
    "toc": "true"
   },
   "source": [
    "# Table of Contents\n",
    " <p><div class=\"lev1 toc-item\"><a href=\"#Bayes-Theorem-Problem\" data-toc-modified-id=\"Bayes-Theorem-Problem-1\"><span class=\"toc-item-num\">1&nbsp;&nbsp;</span>Bayes Theorem Problem</a></div><div class=\"lev1 toc-item\"><a href=\"#Randomness-vs-Uniformity\" data-toc-modified-id=\"Randomness-vs-Uniformity-2\"><span class=\"toc-item-num\">2&nbsp;&nbsp;</span>Randomness vs Uniformity</a></div><div class=\"lev1 toc-item\"><a href=\"#Frequestist-vs-Bayesian\" data-toc-modified-id=\"Frequestist-vs-Bayesian-3\"><span class=\"toc-item-num\">3&nbsp;&nbsp;</span>Frequestist vs Bayesian</a></div>"
   ]
  },
  {
   "cell_type": "markdown",
   "metadata": {},
   "source": [
    "Bayes Theorem:\n",
    "    \n",
    "$$\n",
    "P \\left( B _ { i } | A \\right) = \\frac { P ( A | B _ { i } ) P \\left( B _ { i } \\right) } { P ( A | B _ { 1 } ) P \\left( B _ { 1 } \\right) + \\cdots + P ( A | B _ { k } ) P \\left( B _ { k } \\right) }\n",
    "$$\n"
   ]
  },
  {
   "cell_type": "markdown",
   "metadata": {},
   "source": [
    "# Bayes Theorem Problem\n",
    "\n",
    "Suppose a box contains five quarters, of which one is a trick coin that has heads on both\n",
    "sides. A coin is picked at random and tossed three times. It was observed that all three\n",
    "tosses turned up heads.\n",
    "\n",
    "After observing three heads, what is the probability that the chosen coin\n",
    "has both sides heads?"
   ]
  },
  {
   "cell_type": "markdown",
   "metadata": {},
   "source": [
    "$$\n",
    "\\begin{aligned} P ( M | H ) & = \\frac { P ( M \\cap H ) } { P ( H ) } = \\frac { P ( H | M ) P ( M ) } { P ( H | M ) P ( M ) + P ( H | M ^ { c } ) P \\left( M ^ { c } \\right) } \\\\ & = \\frac { 1 / 5 } { ( 1 / 5 ) + ( 1 / 8 ) \\times ( 4 / 5 ) } = \\frac { 2 } { 3 } \\end{aligned}\n",
    "$$"
   ]
  },
  {
   "cell_type": "markdown",
   "metadata": {},
   "source": [
    "If it is the two-headed coin, then the probability is\n",
    "1, otherwise it is 1/8.\n",
    "\n",
    "$$\n",
    "P ( H | M ) = 1 \\text { and } P ( H | M ^ { c } ) = 1 / 8\n",
    "$$"
   ]
  },
  {
   "cell_type": "markdown",
   "metadata": {},
   "source": [
    "# Randomness vs Uniformity"
   ]
  },
  {
   "cell_type": "markdown",
   "metadata": {},
   "source": [
    "Some people label a phenomenon as “random” to mean that the\n",
    "events have equal chances of possible outcomes. This concept is correctly called uniformity.\n",
    "The concept of randomness does not require uniformity."
   ]
  },
  {
   "cell_type": "markdown",
   "metadata": {},
   "source": [
    "# Frequestist vs Bayesian\n",
    "\n",
    "https://www.behind-the-enemy-lines.com/2008/01/are-you-bayesian-or-frequentist-or.html"
   ]
  },
  {
   "cell_type": "code",
   "execution_count": null,
   "metadata": {
    "collapsed": true
   },
   "outputs": [],
   "source": []
  }
 ],
 "metadata": {
  "kernelspec": {
   "display_name": "Python 3",
   "language": "python",
   "name": "python3"
  },
  "language_info": {
   "codemirror_mode": {
    "name": "ipython",
    "version": 3
   },
   "file_extension": ".py",
   "mimetype": "text/x-python",
   "name": "python",
   "nbconvert_exporter": "python",
   "pygments_lexer": "ipython3",
   "version": "3.5.2"
  },
  "toc": {
   "colors": {
    "hover_highlight": "#DAA520",
    "navigate_num": "#000000",
    "navigate_text": "#333333",
    "running_highlight": "#FF0000",
    "selected_highlight": "#FFD700",
    "sidebar_border": "#EEEEEE",
    "wrapper_background": "#FFFFFF"
   },
   "moveMenuLeft": true,
   "nav_menu": {
    "height": "66px",
    "width": "252px"
   },
   "navigate_menu": true,
   "number_sections": true,
   "sideBar": true,
   "threshold": 4,
   "toc_cell": true,
   "toc_section_display": "block",
   "toc_window_display": true,
   "widenNotebook": false
  }
 },
 "nbformat": 4,
 "nbformat_minor": 2
}
