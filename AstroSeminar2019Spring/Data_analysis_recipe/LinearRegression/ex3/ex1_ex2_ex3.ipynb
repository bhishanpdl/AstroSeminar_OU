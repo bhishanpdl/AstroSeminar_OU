{
 "cells": [
  {
   "cell_type": "markdown",
   "metadata": {
    "toc": "true"
   },
   "source": [
    "<h1>Table of Contents<span class=\"tocSkip\"></span></h1>\n",
    "<div class=\"toc\"><ul class=\"toc-item\"><li><span><a href=\"#Qn-1-(exclude-5-points)\" data-toc-modified-id=\"Qn-1-(exclude-5-points)-1\"><span class=\"toc-item-num\">1&nbsp;&nbsp;</span>Qn 1 (exclude 5 points)</a></span></li><li><span><a href=\"#Qn2-all-data-points\" data-toc-modified-id=\"Qn2-all-data-points-2\"><span class=\"toc-item-num\">2&nbsp;&nbsp;</span>Qn2 all data points</a></span></li><li><span><a href=\"#Qn3-quadratic-fit-excluding-4-rows\" data-toc-modified-id=\"Qn3-quadratic-fit-excluding-4-rows-3\"><span class=\"toc-item-num\">3&nbsp;&nbsp;</span>Qn3 quadratic fit excluding 4 rows</a></span></li></ul></div>"
   ]
  },
  {
   "cell_type": "code",
   "execution_count": 2,
   "metadata": {
    "ExecuteTime": {
     "end_time": "2019-01-24T01:36:48.013338Z",
     "start_time": "2019-01-24T01:36:47.430641Z"
    }
   },
   "outputs": [],
   "source": [
    "# Load a dataset with first 5 rows as outliers\n",
    "import numpy as np\n",
    "import pandas as pd\n",
    "import matplotlib.pyplot as plt\n",
    "plt.rcParams[\"figure.figsize\"] = [10, 8]\n",
    "%matplotlib inline"
   ]
  },
  {
   "cell_type": "code",
   "execution_count": 3,
   "metadata": {
    "ExecuteTime": {
     "end_time": "2019-01-24T01:36:49.097968Z",
     "start_time": "2019-01-24T01:36:48.974704Z"
    }
   },
   "outputs": [
    {
     "name": "stdout",
     "output_type": "stream",
     "text": [
      "# index & x & y & sigm_y & sigma_x & corr \r\n",
      "1 & 201 & 592 & 61 & 9 & -0.84\r\n",
      "2 & 244 & 401 & 25 & 4 & 0.31\r\n",
      "3 & 47 & 583 & 38 & 11 & 0.64\r\n",
      "4 & 287 & 402 & 15 & 7 & -0.27\r\n",
      "5 & 203 & 495 & 21 & 5 & -0.33\r\n",
      "6 & 58 & 173 & 15 & 9 & 0.67\r\n",
      "7 & 210 & 479 & 27 & 4 & -0.02\r\n",
      "8 & 202 & 504 & 14 & 4 & -0.05\r\n",
      "9 & 198 & 510 & 30 & 11 & -0.84\r\n",
      "10 & 158 & 416 & 16 & 7 & -0.69\r\n",
      "11 & 165 & 393 & 14 & 5 & 0.30\r\n",
      "12 & 201 & 442 & 25 & 5 & -0.46\r\n",
      "13 & 157 & 317 & 52 & 5 & -0.03\r\n",
      "14 & 131 & 311 & 16 & 6 & 0.50\r\n",
      "15 & 166 & 400 & 34 & 6 & 0.73\r\n",
      "16 & 160 & 337 & 31 & 5 & -0.52\r\n",
      "17 & 186 & 423 & 42 & 9 & 0.90\r\n",
      "18 & 125 & 334 & 26 & 8 & 0.40\r\n",
      "19 & 218 & 533 & 16 & 6 & -0.78\r\n",
      "20 & 146 & 344 & 22 & 5 & -0.56\r\n"
     ]
    }
   ],
   "source": [
    "!cat data_allerr.dat"
   ]
  },
  {
   "cell_type": "code",
   "execution_count": 4,
   "metadata": {
    "ExecuteTime": {
     "end_time": "2019-01-24T01:36:50.186755Z",
     "start_time": "2019-01-24T01:36:50.148874Z"
    }
   },
   "outputs": [
    {
     "name": "stdout",
     "output_type": "stream",
     "text": [
      "(20, 6)\n"
     ]
    },
    {
     "data": {
      "text/html": [
       "<div>\n",
       "<style scoped>\n",
       "    .dataframe tbody tr th:only-of-type {\n",
       "        vertical-align: middle;\n",
       "    }\n",
       "\n",
       "    .dataframe tbody tr th {\n",
       "        vertical-align: top;\n",
       "    }\n",
       "\n",
       "    .dataframe thead th {\n",
       "        text-align: right;\n",
       "    }\n",
       "</style>\n",
       "<table border=\"1\" class=\"dataframe\">\n",
       "  <thead>\n",
       "    <tr style=\"text-align: right;\">\n",
       "      <th></th>\n",
       "      <th>index</th>\n",
       "      <th>x</th>\n",
       "      <th>y</th>\n",
       "      <th>sigm_y</th>\n",
       "      <th>sigma_x</th>\n",
       "      <th>corr</th>\n",
       "    </tr>\n",
       "  </thead>\n",
       "  <tbody>\n",
       "    <tr>\n",
       "      <th>0</th>\n",
       "      <td>1</td>\n",
       "      <td>201</td>\n",
       "      <td>592</td>\n",
       "      <td>61</td>\n",
       "      <td>9</td>\n",
       "      <td>-0.84</td>\n",
       "    </tr>\n",
       "    <tr>\n",
       "      <th>1</th>\n",
       "      <td>2</td>\n",
       "      <td>244</td>\n",
       "      <td>401</td>\n",
       "      <td>25</td>\n",
       "      <td>4</td>\n",
       "      <td>0.31</td>\n",
       "    </tr>\n",
       "    <tr>\n",
       "      <th>2</th>\n",
       "      <td>3</td>\n",
       "      <td>47</td>\n",
       "      <td>583</td>\n",
       "      <td>38</td>\n",
       "      <td>11</td>\n",
       "      <td>0.64</td>\n",
       "    </tr>\n",
       "    <tr>\n",
       "      <th>3</th>\n",
       "      <td>4</td>\n",
       "      <td>287</td>\n",
       "      <td>402</td>\n",
       "      <td>15</td>\n",
       "      <td>7</td>\n",
       "      <td>-0.27</td>\n",
       "    </tr>\n",
       "    <tr>\n",
       "      <th>4</th>\n",
       "      <td>5</td>\n",
       "      <td>203</td>\n",
       "      <td>495</td>\n",
       "      <td>21</td>\n",
       "      <td>5</td>\n",
       "      <td>-0.33</td>\n",
       "    </tr>\n",
       "    <tr>\n",
       "      <th>5</th>\n",
       "      <td>6</td>\n",
       "      <td>58</td>\n",
       "      <td>173</td>\n",
       "      <td>15</td>\n",
       "      <td>9</td>\n",
       "      <td>0.67</td>\n",
       "    </tr>\n",
       "    <tr>\n",
       "      <th>6</th>\n",
       "      <td>7</td>\n",
       "      <td>210</td>\n",
       "      <td>479</td>\n",
       "      <td>27</td>\n",
       "      <td>4</td>\n",
       "      <td>-0.02</td>\n",
       "    </tr>\n",
       "    <tr>\n",
       "      <th>7</th>\n",
       "      <td>8</td>\n",
       "      <td>202</td>\n",
       "      <td>504</td>\n",
       "      <td>14</td>\n",
       "      <td>4</td>\n",
       "      <td>-0.05</td>\n",
       "    </tr>\n",
       "    <tr>\n",
       "      <th>8</th>\n",
       "      <td>9</td>\n",
       "      <td>198</td>\n",
       "      <td>510</td>\n",
       "      <td>30</td>\n",
       "      <td>11</td>\n",
       "      <td>-0.84</td>\n",
       "    </tr>\n",
       "    <tr>\n",
       "      <th>9</th>\n",
       "      <td>10</td>\n",
       "      <td>158</td>\n",
       "      <td>416</td>\n",
       "      <td>16</td>\n",
       "      <td>7</td>\n",
       "      <td>-0.69</td>\n",
       "    </tr>\n",
       "  </tbody>\n",
       "</table>\n",
       "</div>"
      ],
      "text/plain": [
       "   index    x    y  sigm_y  sigma_x  corr\n",
       "0      1  201  592      61        9 -0.84\n",
       "1      2  244  401      25        4  0.31\n",
       "2      3   47  583      38       11  0.64\n",
       "3      4  287  402      15        7 -0.27\n",
       "4      5  203  495      21        5 -0.33\n",
       "5      6   58  173      15        9  0.67\n",
       "6      7  210  479      27        4 -0.02\n",
       "7      8  202  504      14        4 -0.05\n",
       "8      9  198  510      30       11 -0.84\n",
       "9     10  158  416      16        7 -0.69"
      ]
     },
     "execution_count": 4,
     "metadata": {},
     "output_type": "execute_result"
    }
   ],
   "source": [
    "# load data\n",
    "df = pd.read_csv('data_allerr.dat',sep='&')\n",
    "df.columns = [i.strip('#').strip() for i in df.columns]\n",
    "print(df.shape)\n",
    "df.head(10)"
   ]
  },
  {
   "cell_type": "code",
   "execution_count": 5,
   "metadata": {
    "ExecuteTime": {
     "end_time": "2019-01-24T01:36:54.130174Z",
     "start_time": "2019-01-24T01:36:54.116384Z"
    }
   },
   "outputs": [
    {
     "data": {
      "text/html": [
       "<div>\n",
       "<style scoped>\n",
       "    .dataframe tbody tr th:only-of-type {\n",
       "        vertical-align: middle;\n",
       "    }\n",
       "\n",
       "    .dataframe tbody tr th {\n",
       "        vertical-align: top;\n",
       "    }\n",
       "\n",
       "    .dataframe thead th {\n",
       "        text-align: right;\n",
       "    }\n",
       "</style>\n",
       "<table border=\"1\" class=\"dataframe\">\n",
       "  <thead>\n",
       "    <tr style=\"text-align: right;\">\n",
       "      <th></th>\n",
       "      <th>index</th>\n",
       "      <th>x</th>\n",
       "      <th>y</th>\n",
       "      <th>sigm_y</th>\n",
       "      <th>sigma_x</th>\n",
       "      <th>corr</th>\n",
       "    </tr>\n",
       "  </thead>\n",
       "  <tbody>\n",
       "    <tr>\n",
       "      <th>4</th>\n",
       "      <td>5</td>\n",
       "      <td>203</td>\n",
       "      <td>495</td>\n",
       "      <td>21</td>\n",
       "      <td>5</td>\n",
       "      <td>-0.33</td>\n",
       "    </tr>\n",
       "    <tr>\n",
       "      <th>5</th>\n",
       "      <td>6</td>\n",
       "      <td>58</td>\n",
       "      <td>173</td>\n",
       "      <td>15</td>\n",
       "      <td>9</td>\n",
       "      <td>0.67</td>\n",
       "    </tr>\n",
       "    <tr>\n",
       "      <th>6</th>\n",
       "      <td>7</td>\n",
       "      <td>210</td>\n",
       "      <td>479</td>\n",
       "      <td>27</td>\n",
       "      <td>4</td>\n",
       "      <td>-0.02</td>\n",
       "    </tr>\n",
       "    <tr>\n",
       "      <th>7</th>\n",
       "      <td>8</td>\n",
       "      <td>202</td>\n",
       "      <td>504</td>\n",
       "      <td>14</td>\n",
       "      <td>4</td>\n",
       "      <td>-0.05</td>\n",
       "    </tr>\n",
       "    <tr>\n",
       "      <th>8</th>\n",
       "      <td>9</td>\n",
       "      <td>198</td>\n",
       "      <td>510</td>\n",
       "      <td>30</td>\n",
       "      <td>11</td>\n",
       "      <td>-0.84</td>\n",
       "    </tr>\n",
       "  </tbody>\n",
       "</table>\n",
       "</div>"
      ],
      "text/plain": [
       "   index    x    y  sigm_y  sigma_x  corr\n",
       "4      5  203  495      21        5 -0.33\n",
       "5      6   58  173      15        9  0.67\n",
       "6      7  210  479      27        4 -0.02\n",
       "7      8  202  504      14        4 -0.05\n",
       "8      9  198  510      30       11 -0.84"
      ]
     },
     "execution_count": 5,
     "metadata": {},
     "output_type": "execute_result"
    }
   ],
   "source": [
    "# exclude 4 points.\n",
    "df1 = df.iloc[4:,:]\n",
    "df1.head()"
   ]
  },
  {
   "cell_type": "code",
   "execution_count": 6,
   "metadata": {
    "ExecuteTime": {
     "end_time": "2019-01-24T01:37:00.509759Z",
     "start_time": "2019-01-24T01:37:00.507305Z"
    }
   },
   "outputs": [],
   "source": [
    "df2 = df"
   ]
  },
  {
   "cell_type": "markdown",
   "metadata": {},
   "source": [
    "# Qn 1 (exclude 5 points)"
   ]
  },
  {
   "cell_type": "code",
   "execution_count": 7,
   "metadata": {
    "ExecuteTime": {
     "end_time": "2019-01-24T01:37:05.554392Z",
     "start_time": "2019-01-24T01:37:05.549397Z"
    }
   },
   "outputs": [],
   "source": [
    "def plot_regression(x,y,yerr,degree):\n",
    "    \"\"\"\n",
    "    np.polyfit(x,y,degree) gives params of form ax + b\n",
    "    \n",
    "    a = slope, b= intercept\n",
    "    \"\"\"\n",
    "    slope, intercept = np.polyfit(x, y, degree)\n",
    "    yhat = [slope * i + intercept for i in x]\n",
    "\n",
    "    # Plot the best fit line over the actual values\n",
    "    plt.plot(x, y,'o')\n",
    "    label = 'y = {:.2f} x + {:.2f}'.format(slope,intercept)\n",
    "    plt.plot(x, yhat, 'b',label=label)\n",
    "    plt.errorbar(x, y, yerr=yerr, fmt='.k')\n",
    "\n",
    "    plt.title('Regression degree {}'.format(degree))\n",
    "    plt.xlabel('x')\n",
    "    plt.ylabel('y')\n",
    "    plt.legend(fontsize=20)\n",
    "    plt.show()"
   ]
  },
  {
   "cell_type": "code",
   "execution_count": 8,
   "metadata": {
    "ExecuteTime": {
     "end_time": "2019-01-24T01:37:07.346398Z",
     "start_time": "2019-01-24T01:37:07.114373Z"
    }
   },
   "outputs": [
    {
     "data": {
      "image/png": "[encoded data removed]",
      "text/plain": [
       "<Figure size 432x288 with 1 Axes>"
      ]
     },
     "metadata": {
      "needs_background": "light"
     },
     "output_type": "display_data"
    }
   ],
   "source": [
    "x = df1['x'].values\n",
    "y = df1['y'].values\n",
    "yerr = df1['sigm_y'].values\n",
    "plot_regression(x,y,yerr,1)"
   ]
  },
  {
   "cell_type": "markdown",
   "metadata": {},
   "source": [
    "# Qn2 all data points"
   ]
  },
  {
   "cell_type": "code",
   "execution_count": 9,
   "metadata": {
    "ExecuteTime": {
     "end_time": "2019-01-24T01:37:10.166229Z",
     "start_time": "2019-01-24T01:37:09.994522Z"
    }
   },
   "outputs": [
    {
     "data": {
      "image/png": "[encoded data removed]",
      "text/plain": [
       "<Figure size 432x288 with 1 Axes>"
      ]
     },
     "metadata": {
      "needs_background": "light"
     },
     "output_type": "display_data"
    }
   ],
   "source": [
    "x = df2['x'].values\n",
    "y = df2['y'].values\n",
    "yerr = df2['sigm_y'].values\n",
    "plot_regression(x,y,yerr,1)"
   ]
  },
  {
   "cell_type": "markdown",
   "metadata": {},
   "source": [
    "# Qn3 quadratic fit excluding 4 rows"
   ]
  },
  {
   "cell_type": "code",
   "execution_count": 37,
   "metadata": {
    "ExecuteTime": {
     "end_time": "2019-01-24T02:08:57.831035Z",
     "start_time": "2019-01-24T02:08:57.630985Z"
    }
   },
   "outputs": [
    {
     "data": {
      "image/png": "[encoded data removed]",
      "text/plain": [
       "<Figure size 432x288 with 1 Axes>"
      ]
     },
     "metadata": {
      "needs_background": "light"
     },
     "output_type": "display_data"
    }
   ],
   "source": [
    "def plot_polynomial_regression(df1,degree):\n",
    "    x = df1['x'].values\n",
    "    y = df1['y'].values\n",
    "    yerr = df1['sigm_y'].values\n",
    "    params = np.polyfit(x, y, degree)\n",
    "\n",
    "    # polynomial fit\n",
    "    poly = np.poly1d(params)\n",
    "\n",
    "    # plot data\n",
    "    plt.gca()\n",
    "    plt.plot(x, y,'o')\n",
    "\n",
    "    # label for the bestfit\n",
    "    pat = [ ('{:.2g}x^' + str(i) +' + ') for i in reversed(range(len(params)))]\n",
    "    pat = ''.join(pat)\n",
    "    pat = r'$y = ' + pat.rstrip('x^0 + ').replace('x^1','x') + r'$'\n",
    "    label = pat.format(*params)\n",
    "\n",
    "    # bestfit plot\n",
    "    xx = np.linspace(0, 300, 1001)\n",
    "    yy = np.zeros(len(xx))\n",
    "    for e,i in enumerate(reversed(range(len(params)))):\n",
    "        yy += params[e] * xx**i\n",
    "\n",
    "    plt.plot(xx, yy, 'b-',label=label)\n",
    "\n",
    "    # plot error\n",
    "    plt.errorbar(x, y, yerr=yerr, fmt='.k')\n",
    "\n",
    "    # titles\n",
    "    plt.title('Regression degree {}'.format(degree))\n",
    "    plt.xlabel(r'$x$')\n",
    "    plt.ylabel(r'$y$')\n",
    "    plt.legend(fontsize=12)\n",
    "    plt.xlim(0,300)\n",
    "    plt.ylim(0,700)\n",
    "    plt.show()\n",
    "    \n",
    "plot_polynomial_regression(df1,2)"
   ]
  }
 ],
 "metadata": {
  "kernelspec": {
   "display_name": "Python 3",
   "language": "python",
   "name": "python3"
  },
  "language_info": {
   "codemirror_mode": {
    "name": "ipython",
    "version": 3
   },
   "file_extension": ".py",
   "mimetype": "text/x-python",
   "name": "python",
   "nbconvert_exporter": "python",
   "pygments_lexer": "ipython3",
   "version": "3.5.4"
  },
  "toc": {
   "base_numbering": 1,
   "nav_menu": {
    "height": "66px",
    "width": "252px"
   },
   "number_sections": true,
   "sideBar": true,
   "skip_h1_title": false,
   "title_cell": "Table of Contents",
   "title_sidebar": "Contents",
   "toc_cell": true,
   "toc_position": {},
   "toc_section_display": "block",
   "toc_window_display": true
  }
 },
 "nbformat": 4,
 "nbformat_minor": 2
}
