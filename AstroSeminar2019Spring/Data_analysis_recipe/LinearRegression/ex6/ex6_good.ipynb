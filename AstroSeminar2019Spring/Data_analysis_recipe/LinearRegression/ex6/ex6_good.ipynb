{
 "cells": [
  {
   "cell_type": "markdown",
   "metadata": {
    "toc": true
   },
   "source": [
    "<h1>Table of Contents<span class=\"tocSkip\"></span></h1>\n",
    "<div class=\"toc\"><ul class=\"toc-item\"><li><span><a href=\"#Chi-Squared\" data-toc-modified-id=\"Chi-Squared-1\"><span class=\"toc-item-num\">1&nbsp;&nbsp;</span>Chi-Squared</a></span></li><li><span><a href=\"#Exercise-6b\" data-toc-modified-id=\"Exercise-6b-2\"><span class=\"toc-item-num\">2&nbsp;&nbsp;</span>Exercise 6b</a></span></li><li><span><a href=\"#Exercise-6c\" data-toc-modified-id=\"Exercise-6c-3\"><span class=\"toc-item-num\">3&nbsp;&nbsp;</span>Exercise 6c</a></span></li></ul></div>"
   ]
  },
  {
   "cell_type": "markdown",
   "metadata": {
    "ExecuteTime": {
     "end_time": "2019-01-25T23:07:29.450635Z",
     "start_time": "2019-01-25T23:07:29.333878Z"
    }
   },
   "source": [
    "# Chi-Squared\n",
    "\n",
    "$$\n",
    "\\chi ^ { 2 } = \\sum _ { i = 1 } ^ { N } \\frac { \\left[ y _ { i } - f \\left( x _ { i } \\right) \\right] ^ { 2 } } { \\sigma _ { y i } ^ { 2 } } \\equiv [ Y - A X ] ^ { \\top } C ^ { - 1 } [ Y - A X ]\n",
    "$$"
   ]
  },
  {
   "cell_type": "code",
   "execution_count": 1,
   "metadata": {
    "ExecuteTime": {
     "end_time": "2019-01-26T01:37:47.327877Z",
     "start_time": "2019-01-26T01:37:46.432528Z"
    }
   },
   "outputs": [
    {
     "name": "stdout",
     "output_type": "stream",
     "text": [
      "bestfitvar =\n",
      " [[ 3.32922601e+02 -1.88954491e+00]\n",
      " [-1.88954491e+00  1.16166311e-02]] \n",
      "\n",
      "bestfit= [34.04772776  2.23992083]\n",
      "\n",
      "bestfitbiexp =  [44.19974282  2.22069079]\n",
      "Creating:  ex6a.png\n"
     ]
    },
    {
     "data": {
      "image/png": "[encoded data removed]",
      "text/plain": [
       "<Figure size 432x288 with 1 Axes>"
      ]
     },
     "metadata": {
      "needs_background": "light"
     },
     "output_type": "display_data"
    }
   ],
   "source": [
    "def ex6a():\n",
    "    import numpy as np\n",
    "    import pandas as pd\n",
    "    import matplotlib.pyplot as plt\n",
    "    import scipy.optimize as spo\n",
    "    plt.rcParams[\"figure.figsize\"] = [10, 8]\n",
    "    %matplotlib inline\n",
    "\n",
    "    import scipy.linalg as linalg\n",
    "\n",
    "    # load data\n",
    "    df = pd.read_csv('data_allerr.dat',sep='&')\n",
    "    df.columns = [i.strip('#').strip() for i in df.columns]\n",
    "\n",
    "\n",
    "    # matrices A,C, Y, yerr\n",
    "    df1 = df.iloc[4:, :]\n",
    "    x = df1.x.values\n",
    "    y = df1.y.values\n",
    "    yerr = df1['sigm_y'].values  # sigma y is yerr\n",
    "\n",
    "    degree = 1\n",
    "    X = x\n",
    "    Y = y\n",
    "    A = np.vander(x, degree+1, increasing=True).astype(float)  # 1, x, x**2\n",
    "    C = np.diag(yerr*yerr)  # diagonal matrix of yerr**2\n",
    "\n",
    "    # Bestfit\n",
    "    cinv = linalg.inv(C)\n",
    "    cinv_y = cinv @ Y.T\n",
    "    at_cinv_y = A.T @ cinv_y\n",
    "\n",
    "    cinv_a = cinv @ A\n",
    "    at_cinv_a = A.T @ cinv_a\n",
    "\n",
    "    bestfitvar = linalg.inv(at_cinv_a)\n",
    "    bestfit = bestfitvar @ at_cinv_y  # bestfit = params = c,b,a for ax**2 + bx + c\n",
    "    print('bestfitvar =\\n', bestfitvar, '\\n\\nbestfit=', bestfit)\n",
    "\n",
    "    # Log of bi-exponential cost function\n",
    "    def logbiexp(mb,X,Y,yerr):\n",
    "        b,m = mb\n",
    "        abs_err = np.fabs(Y -m*X -b)\n",
    "        return np.sum(abs_err/yerr)\n",
    "\n",
    "    # Optimize bi-exponential objective function using bestfit\n",
    "    bestfitbiexp = spo.optimize.fmin(logbiexp,bestfit,(X,Y,yerr),disp=False)\n",
    "    print('\\nbestfitbiexp = ', bestfitbiexp)\n",
    "\n",
    "    # plot errorbar\n",
    "    plt.errorbar(X,Y,yerr,color='k',marker='o',linestyle='None')\n",
    "\n",
    "    # Plot the best fit line\n",
    "    nsamples = 1001\n",
    "    plt.xlim(0,300)\n",
    "    plt.ylim(0,700)\n",
    "    xs = np.linspace(plt.xlim()[0],plt.xlim()[1],nsamples)\n",
    "    b,m = bestfitbiexp\n",
    "    ys = m * xs + b\n",
    "    sgn_str = '-' if b < 0 else '+'\n",
    "    cost = logbiexp(bestfitbiexp,X,Y,yerr)\n",
    "    label = '$y = {:4.2f}x {} {:2.0f}; X = {:3.1f}$'.format(m,sgn_str,np.abs(b),cost)\n",
    "    plt.plot(xs,ys,color='k',ls='--',label=label)\n",
    "\n",
    "    # legends and limits\n",
    "    l = plt.legend(loc=(.3,.1),numpoints=8)\n",
    "    l.draw_frame(False)\n",
    "    plt.xlabel(r'$x$')\n",
    "    plt.ylabel(r'$y$')\n",
    "    plt.plot(xs,ys,'k--')\n",
    "    filename = 'ex6a.png'\n",
    "    print('Creating: ', filename)\n",
    "    plt.savefig(filename)\n",
    "    plt.show()\n",
    "if __name__ == '__main__':\n",
    "    # run the program\n",
    "    ex6a()"
   ]
  },
  {
   "cell_type": "markdown",
   "metadata": {},
   "source": [
    "# Exercise 6b"
   ]
  },
  {
   "cell_type": "code",
   "execution_count": 2,
   "metadata": {
    "ExecuteTime": {
     "end_time": "2019-01-26T01:37:55.866735Z",
     "start_time": "2019-01-26T01:37:47.329648Z"
    }
   },
   "outputs": [
    {
     "name": "stdout",
     "output_type": "stream",
     "text": [
      "bestfitvar =\n",
      " [[ 3.32922601e+02 -1.88954491e+00]\n",
      " [-1.88954491e+00  1.16166311e-02]] \n",
      "\n",
      "bestfit= [34.04772776  2.23992083]\n",
      "[34.04772776  2.23992083]\n",
      "Performing 10 runs of the simulating basinhopping optimization algorithm\n",
      "[34.58274859  2.26806528]\n",
      "Creating:  ex6b.png\n"
     ]
    },
    {
     "data": {
      "image/png": "[encoded data removed]",
      "text/plain": [
       "<Figure size 432x288 with 1 Axes>"
      ]
     },
     "metadata": {
      "needs_background": "light"
     },
     "output_type": "display_data"
    }
   ],
   "source": [
    "def ex6b():\n",
    "    import numpy as np\n",
    "    import pandas as pd\n",
    "    import matplotlib.pyplot as plt\n",
    "    import scipy.optimize as spo\n",
    "    plt.rcParams[\"figure.figsize\"] = [10, 8]\n",
    "    %matplotlib inline\n",
    "\n",
    "    import scipy.linalg as linalg\n",
    "\n",
    "    # load data\n",
    "    df = pd.read_csv('data_allerr.dat',sep='&')\n",
    "    df.columns = [i.strip('#').strip() for i in df.columns]\n",
    "\n",
    "    # matrices A,C, Y, yerr\n",
    "    df1 = df.iloc[4:, :]\n",
    "    x = df1.x.values\n",
    "    y = df1.y.values\n",
    "    yerr = df1['sigm_y'].values  # sigma y is yerr\n",
    "\n",
    "    degree = 1\n",
    "    X = x\n",
    "    Y = y\n",
    "    A = np.vander(x, degree+1, increasing=True).astype(float)  # 1, x, x**2\n",
    "    C = np.diag(yerr*yerr)  # diagonal matrix of yerr**2\n",
    "\n",
    "    # Bestfit\n",
    "    cinv = linalg.inv(C)\n",
    "    cinv_y = cinv @ Y.T\n",
    "    at_cinv_y = A.T @ cinv_y\n",
    "\n",
    "    cinv_a = cinv @ A\n",
    "    at_cinv_a = A.T @ cinv_a\n",
    "\n",
    "    bestfitvar = linalg.inv(at_cinv_a)\n",
    "    bestfit = bestfitvar @ at_cinv_y  # bestfit = params = c,b,a for ax**2 + bx + c\n",
    "    print('bestfitvar =\\n', bestfitvar, '\\n\\nbestfit=', bestfit)\n",
    "    \n",
    "    # Log of bi-exponential cost function\n",
    "    def logbiexp(mb,X,Y,yerr):\n",
    "        b,m = mb\n",
    "        abs_err = np.fabs(Y -m*X -b)\n",
    "        return np.sum(abs_err/yerr)\n",
    "\n",
    "    initialguess= np.array([bestfit[0],bestfit[1]])\n",
    "    nsample = len(X)\n",
    "    initialchisq= nsample*10.\n",
    "    chisq= initialchisq\n",
    "    bestfit= initialguess\n",
    "    print(bestfit)\n",
    "\n",
    "    print(\"Performing 10 runs of the simulating basinhopping optimization algorithm\")\n",
    "    for jj in range(10):\n",
    "        np.random.seed(jj+1) \n",
    "        minimizer_kwargs = {\"args\": (X,Y,yerr)}\n",
    "        bestfitbiexp= spo.basinhopping(logbiexp,x0=initialguess,\n",
    "                                            minimizer_kwargs=minimizer_kwargs,niter=100)\n",
    "\n",
    "    if bestfitbiexp.fun < chisq:\n",
    "        bestfit= bestfitbiexp.x\n",
    "        chisq= bestfitbiexp.fun\n",
    "\n",
    "    bestfitsbiexp= bestfit\n",
    "    print(bestfitsbiexp)\n",
    "\n",
    "    # Plot data\n",
    "    plt.errorbar(X,Y,yerr,color='k',marker='o',linestyle='None')\n",
    "    plt.xlabel(r'$x$')\n",
    "    plt.ylabel(r'$y$')\n",
    "    plt.xlim(0,300)\n",
    "    plt.ylim(0,700)\n",
    "    xmin, xmax= plt.xlim()\n",
    "    nsamples= 1001\n",
    "    xs= np.linspace(xmin,xmax,nsamples)\n",
    "    ys = bestfitsbiexp[1] * xs + bestfitsbiexp[0]\n",
    "    sgn_str = '-' if bestfitsbiexp[0] < 0 else '+'\n",
    "\n",
    "    label= r'$y = {:4.2f} {} {:4.0f}; X ={:3.1f}$'.format(\n",
    "        bestfitsbiexp[1],sgn_str,np.fabs(bestfitsbiexp[0]),chisq)\n",
    "\n",
    "    plt.plot(xs,ys,color='k',ls='--',label=label)\n",
    "\n",
    "    l=plt.legend(loc=(.3,.1),numpoints=8)\n",
    "    l.draw_frame(False)\n",
    "    plt.xlim(0,300)\n",
    "    plt.ylim(0,700)\n",
    "    filename = 'ex6b.png'\n",
    "    print('Creating: ', filename)\n",
    "    plt.savefig(filename)\n",
    "    plt.show()\n",
    "if __name__ == '__main__':\n",
    "    # run the program\n",
    "    ex6b()"
   ]
  },
  {
   "cell_type": "markdown",
   "metadata": {},
   "source": [
    "# Exercise 6c"
   ]
  },
  {
   "cell_type": "code",
   "execution_count": 3,
   "metadata": {
    "ExecuteTime": {
     "end_time": "2019-01-26T01:37:57.144105Z",
     "start_time": "2019-01-26T01:37:55.868841Z"
    }
   },
   "outputs": [
    {
     "name": "stdout",
     "output_type": "stream",
     "text": [
      "bestfitvar =\n",
      " [[ 3.32922601e+02 -1.88954491e+00]\n",
      " [-1.88954491e+00  1.16166311e-02]] \n",
      "\n",
      "bestfit= [34.04772776  2.23992083]\n",
      "bestfitsbiexp =  [44.20171344  2.21868695]\n",
      "Creating:  ex6c.png\n"
     ]
    },
    {
     "data": {
      "image/png": "[encoded data removed]",
      "text/plain": [
       "<Figure size 432x288 with 1 Axes>"
      ]
     },
     "metadata": {
      "needs_background": "light"
     },
     "output_type": "display_data"
    }
   ],
   "source": [
    "def ex6c():\n",
    "    import numpy as np\n",
    "    import pandas as pd\n",
    "    import matplotlib.pyplot as plt\n",
    "    import scipy.optimize as spo\n",
    "    from scipy import stats\n",
    "    np.random.seed(100)\n",
    "    plt.rcParams[\"figure.figsize\"] = [10, 8]\n",
    "    %matplotlib inline\n",
    "\n",
    "    import scipy.linalg as linalg\n",
    "\n",
    "    # load data\n",
    "    df = pd.read_csv('data_allerr.dat',sep='&')\n",
    "    df.columns = [i.strip('#').strip() for i in df.columns]\n",
    "\n",
    "    # matrices A,C, Y, yerr\n",
    "    df1 = df.iloc[4:, :]\n",
    "    x = df1.x.values\n",
    "    y = df1.y.values\n",
    "    yerr = df1['sigm_y'].values  # sigma y is yerr\n",
    "    nsample = len(x)\n",
    "\n",
    "    degree = 1\n",
    "    X = x\n",
    "    Y = y\n",
    "    A = np.vander(x, degree+1, increasing=True).astype(float)  # 1, x, x**2\n",
    "    C = np.diag(yerr*yerr)  # diagonal matrix of yerr**2\n",
    "\n",
    "    # Bestfit\n",
    "    cinv = linalg.inv(C)\n",
    "    cinv_y = cinv @ Y.T\n",
    "    at_cinv_y = A.T @ cinv_y\n",
    "\n",
    "    cinv_a = cinv @ A\n",
    "    at_cinv_a = A.T @ cinv_a\n",
    "\n",
    "    bestfitvar = linalg.inv(at_cinv_a)\n",
    "    bestfit = bestfitvar @ at_cinv_y  # bestfit = params = c,b,a for ax**2 + bx + c\n",
    "    print('bestfitvar =\\n', bestfitvar, '\\n\\nbestfit=', bestfit)\n",
    "\n",
    "    initialguess= np.array([bestfit[0],bestfit[1]])\n",
    "\n",
    "    # With this initial guess start off the sampling procedure\n",
    "    abs_err = np.fabs(Y-bestfit[1]*X-bestfit[0])\n",
    "    initialX= np.sum(abs_err/yerr)\n",
    "    currentX= initialX\n",
    "    bestX= initialX\n",
    "    bestfit= initialguess\n",
    "    currentguess= initialguess\n",
    "    naccept= 0\n",
    "\n",
    "    # Log of bi-exponential cost function\n",
    "    def logbiexp(mb,X,Y,yerr):\n",
    "        b,m = mb\n",
    "        abs_err = np.fabs(Y -m*X -b)\n",
    "        return np.sum(abs_err/yerr)\n",
    "\n",
    "    nburn = 100\n",
    "    parsigma=[5,.075]\n",
    "    nsamples=10000\n",
    "    for jj in range(nburn+nsamples):\n",
    "        #Draw a sample from the proposal distribution\n",
    "        newsample= np.zeros(2)\n",
    "        newsample[0]= currentguess[0]+stats.norm.rvs()*parsigma[0]\n",
    "        newsample[1]= currentguess[1]+stats.norm.rvs()*parsigma[1]\n",
    "        #Calculate the objective function for the newsample\n",
    "        newX= logbiexp(newsample,X,Y,yerr)\n",
    "        #Accept or reject\n",
    "        #Reject with the appropriate probability\n",
    "        u= stats.uniform.rvs()\n",
    "        if u < np.exp(currentX-newX):\n",
    "            #Accept\n",
    "            currentX= newX\n",
    "            currentguess= newsample\n",
    "            naccept= naccept+1\n",
    "        if currentX < bestX:\n",
    "            bestfit= currentguess\n",
    "            bestX= currentX\n",
    "    bestfitsbiexp= bestfit\n",
    "    print('bestfitsbiexp = ', bestfitsbiexp)\n",
    "\n",
    "    \n",
    "    cond1 = np.float64(naccept)/(nburn+nsamples)\n",
    "    cond2 = np.float64(naccept)/(nburn+nsamples) > .8\n",
    "    if cond1 < .5 or cond2:\n",
    "        print(\"Acceptance ratio was \"+str(np.float64(naccept)/(nburn+nsamples)))\n",
    "\n",
    "    # Plot data\n",
    "    plt.errorbar(X,Y,yerr,color='k',marker='o',linestyle='None')\n",
    "    plt.xlabel(r'$x$')\n",
    "    plt.ylabel(r'$y$')\n",
    "    plt.xlim(0,300)\n",
    "    plt.ylim(0,700)\n",
    "    xmin, xmax= plt.xlim()\n",
    "    nsamples= 1001\n",
    "    xs= np.linspace(xmin,xmax,nsamples)\n",
    "    ys = bestfitsbiexp[1] * xs + bestfitsbiexp[0]\n",
    "    sgn_str = '-' if bestfitsbiexp[0] < 0 else '+'\n",
    "\n",
    "    label= r'$y = {:4.2f} {} {:4.0f}; X ={:3.1f}$'.format(\n",
    "        bestfitsbiexp[1],sgn_str,np.fabs(bestfitsbiexp[0]),bestX)\n",
    "\n",
    "    plt.plot(xs,ys,color='k',ls='--',label=label)\n",
    "\n",
    "    l=plt.legend(loc=(.3,.1),numpoints=8)\n",
    "    l.draw_frame(False)\n",
    "    plt.xlim(0,300)\n",
    "    plt.ylim(0,700)\n",
    "    filename = 'ex6c.png'\n",
    "    print('Creating: ', filename)\n",
    "    plt.savefig(filename)\n",
    "    plt.show()\n",
    "if __name__ == '__main__':\n",
    "    # run the program\n",
    "    ex6c()"
   ]
  },
  {
   "cell_type": "code",
   "execution_count": null,
   "metadata": {},
   "outputs": [],
   "source": []
  }
 ],
 "metadata": {
  "kernelspec": {
   "display_name": "Python (dataSc)",
   "language": "python",
   "name": "datasc"
  },
  "language_info": {
   "codemirror_mode": {
    "name": "ipython",
    "version": 3
   },
   "file_extension": ".py",
   "mimetype": "text/x-python",
   "name": "python",
   "nbconvert_exporter": "python",
   "pygments_lexer": "ipython3",
   "version": "3.7.0"
  },
  "toc": {
   "base_numbering": 1,
   "nav_menu": {},
   "number_sections": true,
   "sideBar": true,
   "skip_h1_title": false,
   "title_cell": "Table of Contents",
   "title_sidebar": "Contents",
   "toc_cell": true,
   "toc_position": {},
   "toc_section_display": true,
   "toc_window_display": true
  }
 },
 "nbformat": 4,
 "nbformat_minor": 2
}
