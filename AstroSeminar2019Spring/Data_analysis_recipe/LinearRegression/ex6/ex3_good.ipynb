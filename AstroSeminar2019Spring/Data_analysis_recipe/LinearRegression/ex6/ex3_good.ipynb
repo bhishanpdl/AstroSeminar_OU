{
 "cells": [
  {
   "cell_type": "markdown",
   "metadata": {
    "toc": "true"
   },
   "source": [
    "<h1>Table of Contents<span class=\"tocSkip\"></span></h1>\n",
    "<div class=\"toc\"><ul class=\"toc-item\"><li><span><a href=\"#Table-of-Contents\" data-toc-modified-id=\"Table-of-Contents-1\"><span class=\"toc-item-num\">1&nbsp;&nbsp;</span>Table of Contents</a></span></li><li><span><a href=\"#Algebra\" data-toc-modified-id=\"Algebra-2\"><span class=\"toc-item-num\">2&nbsp;&nbsp;</span>Algebra</a></span></li></ul></div>"
   ]
  },
  {
   "cell_type": "markdown",
   "metadata": {
    "toc": true
   },
   "source": [
    "<h1>Table of Contents<span class=\"tocSkip\"></span></h1>\n",
    "<div class=\"toc\"><ul class=\"toc-item\"><li><span><a href=\"#Algebra\" data-toc-modified-id=\"Algebra-1\"><span class=\"toc-item-num\">1&nbsp;&nbsp;</span>Algebra</a></span></li></ul></div>"
   ]
  },
  {
   "cell_type": "markdown",
   "metadata": {},
   "source": [
    "# Algebra\n",
    "\n",
    "Linear equation:\n",
    "$$\n",
    "\\boldsymbol { Y } = \\boldsymbol { A } \\boldsymbol { X }\n",
    "$$\n",
    "\n",
    "Dependent variable Y is called response or target:\n",
    "$$\n",
    "\\boldsymbol { Y } = \\left[ \\begin{array} { c } { y _ { 1 } } \\\\ { y _ { 2 } } \\\\ { \\cdots } \\\\ { y _ { N } } \\end{array} \\right]\n",
    "$$\n",
    "\n",
    "Independent variable, A is augmented matrix.\n",
    "$$\n",
    "\\boldsymbol { A } = \\left[ \\begin{array} { c c } { 1 } & { x _ { 1 } } \\\\ { 1 } & { x _ { 2 } } \\\\ { \\cdots } \\\\ { 1 } & { x _ { N } } \\end{array} \\right]\n",
    "$$\n",
    "\n",
    "\n",
    "Covariance matrix:\n",
    "$$\n",
    "C = \\left[ \\begin{array} { c c c c } { \\sigma _ { y 1 } ^ { 2 } } & { 0 } & { \\cdots } & { 0 } \\\\ { 0 } & { \\sigma _ { y 2 } ^ { 2 } } & { \\cdots } & { 0 } \\\\ { 0 } & { y _ { y 2 } } & { \\cdots } & { 0 } \\\\ { 0 } & { 0 } & { \\cdots } & { \\sigma _ { y N } ^ { 2 } } \\end{array} \\right]\n",
    "$$\n",
    "\n",
    "Covariance matrix when we have uncertainties in both x and y:\n",
    "$$\n",
    "\\left[ \\begin{array} { c c } { \\sigma _ { x } ^ { 2 } } & { \\rho _ { x y } \\sigma _ { x } \\sigma _ { y } } \\\\ { \\rho _ { x y } \\sigma _ { x } \\sigma _ { y } } & { \\sigma _ { y } ^ { 2 } } \\end{array} \\right]\n",
    "$$\n",
    "\n",
    "Solution to linear equation:\n",
    "$$\n",
    "parameters = \\left[ \\begin{array} { c } { \\mathrm { b } } \\\\ { \\mathrm { m } } \\end{array} \\right] = \\boldsymbol { X } = \\left[ \\boldsymbol { A } ^ { \\top } \\boldsymbol { C } ^ { - 1 } \\boldsymbol { A } \\right] ^ { - 1 } \\left[ \\boldsymbol { A } ^ { \\top } \\boldsymbol { C } ^ { - 1 } \\boldsymbol { Y } \\right]\n",
    "$$"
   ]
  },
  {
   "cell_type": "code",
   "execution_count": 1,
   "metadata": {
    "ExecuteTime": {
     "end_time": "2019-01-24T01:19:34.368170Z",
     "start_time": "2019-01-24T01:19:33.811150Z"
    },
    "collapsed": true
   },
   "outputs": [],
   "source": [
    "# Load a dataset with first 5 rows as outliers\n",
    "import numpy as np\n",
    "import pandas as pd\n",
    "import matplotlib.pyplot as plt\n",
    "plt.rcParams[\"figure.figsize\"] = [10, 8]\n",
    "%matplotlib inline\n",
    "\n",
    "import scipy.linalg as linalg"
   ]
  },
  {
   "cell_type": "code",
   "execution_count": 2,
   "metadata": {
    "ExecuteTime": {
     "end_time": "2019-01-24T01:19:34.385307Z",
     "start_time": "2019-01-24T01:19:34.370008Z"
    }
   },
   "outputs": [
    {
     "name": "stdout",
     "output_type": "stream",
     "text": [
      "(20, 6)\n"
     ]
    },
    {
     "data": {
      "text/html": [
       "<div>\n",
       "<style scoped>\n",
       "    .dataframe tbody tr th:only-of-type {\n",
       "        vertical-align: middle;\n",
       "    }\n",
       "\n",
       "    .dataframe tbody tr th {\n",
       "        vertical-align: top;\n",
       "    }\n",
       "\n",
       "    .dataframe thead th {\n",
       "        text-align: right;\n",
       "    }\n",
       "</style>\n",
       "<table border=\"1\" class=\"dataframe\">\n",
       "  <thead>\n",
       "    <tr style=\"text-align: right;\">\n",
       "      <th></th>\n",
       "      <th>index</th>\n",
       "      <th>x</th>\n",
       "      <th>y</th>\n",
       "      <th>sigm_y</th>\n",
       "      <th>sigma_x</th>\n",
       "      <th>corr</th>\n",
       "    </tr>\n",
       "  </thead>\n",
       "  <tbody>\n",
       "    <tr>\n",
       "      <th>0</th>\n",
       "      <td>1</td>\n",
       "      <td>201</td>\n",
       "      <td>592</td>\n",
       "      <td>61</td>\n",
       "      <td>9</td>\n",
       "      <td>-0.84</td>\n",
       "    </tr>\n",
       "    <tr>\n",
       "      <th>1</th>\n",
       "      <td>2</td>\n",
       "      <td>244</td>\n",
       "      <td>401</td>\n",
       "      <td>25</td>\n",
       "      <td>4</td>\n",
       "      <td>0.31</td>\n",
       "    </tr>\n",
       "    <tr>\n",
       "      <th>2</th>\n",
       "      <td>3</td>\n",
       "      <td>47</td>\n",
       "      <td>583</td>\n",
       "      <td>38</td>\n",
       "      <td>11</td>\n",
       "      <td>0.64</td>\n",
       "    </tr>\n",
       "    <tr>\n",
       "      <th>3</th>\n",
       "      <td>4</td>\n",
       "      <td>287</td>\n",
       "      <td>402</td>\n",
       "      <td>15</td>\n",
       "      <td>7</td>\n",
       "      <td>-0.27</td>\n",
       "    </tr>\n",
       "    <tr>\n",
       "      <th>4</th>\n",
       "      <td>5</td>\n",
       "      <td>203</td>\n",
       "      <td>495</td>\n",
       "      <td>21</td>\n",
       "      <td>5</td>\n",
       "      <td>-0.33</td>\n",
       "    </tr>\n",
       "    <tr>\n",
       "      <th>5</th>\n",
       "      <td>6</td>\n",
       "      <td>58</td>\n",
       "      <td>173</td>\n",
       "      <td>15</td>\n",
       "      <td>9</td>\n",
       "      <td>0.67</td>\n",
       "    </tr>\n",
       "    <tr>\n",
       "      <th>6</th>\n",
       "      <td>7</td>\n",
       "      <td>210</td>\n",
       "      <td>479</td>\n",
       "      <td>27</td>\n",
       "      <td>4</td>\n",
       "      <td>-0.02</td>\n",
       "    </tr>\n",
       "    <tr>\n",
       "      <th>7</th>\n",
       "      <td>8</td>\n",
       "      <td>202</td>\n",
       "      <td>504</td>\n",
       "      <td>14</td>\n",
       "      <td>4</td>\n",
       "      <td>-0.05</td>\n",
       "    </tr>\n",
       "    <tr>\n",
       "      <th>8</th>\n",
       "      <td>9</td>\n",
       "      <td>198</td>\n",
       "      <td>510</td>\n",
       "      <td>30</td>\n",
       "      <td>11</td>\n",
       "      <td>-0.84</td>\n",
       "    </tr>\n",
       "    <tr>\n",
       "      <th>9</th>\n",
       "      <td>10</td>\n",
       "      <td>158</td>\n",
       "      <td>416</td>\n",
       "      <td>16</td>\n",
       "      <td>7</td>\n",
       "      <td>-0.69</td>\n",
       "    </tr>\n",
       "  </tbody>\n",
       "</table>\n",
       "</div>"
      ],
      "text/plain": [
       "   index    x    y  sigm_y  sigma_x  corr\n",
       "0      1  201  592      61        9 -0.84\n",
       "1      2  244  401      25        4  0.31\n",
       "2      3   47  583      38       11  0.64\n",
       "3      4  287  402      15        7 -0.27\n",
       "4      5  203  495      21        5 -0.33\n",
       "5      6   58  173      15        9  0.67\n",
       "6      7  210  479      27        4 -0.02\n",
       "7      8  202  504      14        4 -0.05\n",
       "8      9  198  510      30       11 -0.84\n",
       "9     10  158  416      16        7 -0.69"
      ]
     },
     "execution_count": 2,
     "metadata": {},
     "output_type": "execute_result"
    }
   ],
   "source": [
    "# load data\n",
    "df = pd.read_csv('data_allerr.dat',sep='&')\n",
    "df.columns = [i.strip('#').strip() for i in df.columns]\n",
    "print(df.shape)\n",
    "df.head(10)"
   ]
  },
  {
   "cell_type": "code",
   "execution_count": 20,
   "metadata": {
    "ExecuteTime": {
     "end_time": "2019-01-24T01:34:01.061566Z",
     "start_time": "2019-01-24T01:34:00.904884Z"
    }
   },
   "outputs": [
    {
     "data": {
      "image/png": "[encoded data removed]",
      "text/plain": [
       "<Figure size 432x288 with 1 Axes>"
      ]
     },
     "metadata": {
      "needs_background": "light"
     },
     "output_type": "display_data"
    }
   ],
   "source": [
    "# matrices A,C, Y, yerr\n",
    "df1 = df.iloc[4:, :]\n",
    "x = df1.x.values\n",
    "y = df1.y.values\n",
    "yerr = df1['sigm_y'].values  # sigma y is yerr\n",
    "\n",
    "degree = 2\n",
    "Y = y\n",
    "A = np.vander(x, degree+1, increasing=True).astype(float)  # 1, x, x**2\n",
    "C = np.diag(yerr*yerr)  # diagonal matrix of yerr**2\n",
    "\n",
    "# Bestfit\n",
    "cinv = linalg.inv(C)\n",
    "cinv_y = cinv @ Y.T\n",
    "at_cinv_y = A.T @ cinv_y\n",
    "\n",
    "cinv_a = cinv @ A\n",
    "at_cinv_a = A.T @ cinv_a\n",
    "\n",
    "bestfitvar = linalg.inv(at_cinv_a)\n",
    "bestfit = bestfitvar @ at_cinv_y  # bestfit = params = c,b,a for ax**2 + bx + c\n",
    "\n",
    "# plot bestfit\n",
    "xrange = [0, 300]\n",
    "yrange = [0, 700]\n",
    "nsamples = 1001\n",
    "xs = np.linspace(xrange[0], xrange[1], nsamples)\n",
    "ys = np.zeros(len(xs))\n",
    "for i in range(len(bestfit)):\n",
    "    ys += bestfit[i] * xs**i\n",
    "\n",
    "# plot\n",
    "plt.plot(xs, ys, 'k-')\n",
    "plt.xlim(xrange)\n",
    "plt.ylim(yrange)\n",
    "plt.xlabel(r'$x$')\n",
    "plt.ylabel(r'$y$')\n",
    "\n",
    "plt.errorbar(x, y, yerr, marker='o',color='k', linestyle='None')\n",
    "\n",
    "\n",
    "# print text\n",
    "# reverse the bestfit and bestfitvar\n",
    "params = bestfit.tolist()[::-1]\n",
    "err = np.sqrt(np.diag(bestfitvar)).tolist()[::-1]\n",
    "\n",
    "# alternative params and err\n",
    "params_err = [None]*(len(params)+len(err))\n",
    "params_err[::2] = params\n",
    "params_err[1::2] = err\n",
    "\n",
    "# format text\n",
    "fmt = [ ('({:.2g} \\pm {:.2g})x^' + str(i) +' + ') for i in reversed(range(len(params)))]\n",
    "fmt = ''.join(fmt)\n",
    "fmt = fmt.rstrip('x^0 + ').replace('x^1','x')\n",
    "text = r'$y = ' + fmt.format(*params_err) + r'$'\n",
    "\n",
    "# plot text\n",
    "plt.text(5, 30, text)\n",
    "plt.show()"
   ]
  },
  {
   "cell_type": "code",
   "execution_count": null,
   "metadata": {
    "collapsed": true
   },
   "outputs": [],
   "source": []
  }
 ],
 "metadata": {
  "kernelspec": {
   "display_name": "Python 3",
   "language": "python",
   "name": "python3"
  },
  "language_info": {
   "codemirror_mode": {
    "name": "ipython",
    "version": 3
   },
   "file_extension": ".py",
   "mimetype": "text/x-python",
   "name": "python",
   "nbconvert_exporter": "python",
   "pygments_lexer": "ipython3",
   "version": "3.7.0"
  },
  "toc": {
   "base_numbering": 1,
   "nav_menu": {
    "height": "12px",
    "width": "252px"
   },
   "number_sections": true,
   "sideBar": true,
   "skip_h1_title": false,
   "title_cell": "Table of Contents",
   "title_sidebar": "Contents",
   "toc_cell": true,
   "toc_position": {},
   "toc_section_display": "block",
   "toc_window_display": true
  }
 },
 "nbformat": 4,
 "nbformat_minor": 2
}
